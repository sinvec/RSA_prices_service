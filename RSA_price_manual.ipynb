{
 "cells": [
  {
   "cell_type": "code",
   "execution_count": 1,
   "id": "16fa5de0",
   "metadata": {},
   "outputs": [],
   "source": [
    "import requests"
   ]
  },
  {
   "cell_type": "markdown",
   "id": "753f9da6",
   "metadata": {},
   "source": [
    "# Эндпоинты сайта РСА"
   ]
  },
  {
   "cell_type": "code",
   "execution_count": 27,
   "id": "43e31e21",
   "metadata": {},
   "outputs": [],
   "source": [
    "catalog_num = \"034115417\"\n",
    "today_date = '21.10.2023'\n",
    "\n",
    "get_rf_subject_ids = f'https://prices.autoins.ru/priceAutoPublicCheck/api/rf_subject/date?versionDate={today_date}'\n",
    "get_oem_ids = f'https://prices.autoins.ru/priceAutoPublicCheck/api/oem/date?versionDate={today_date}'\n",
    "get_price_url = 'https://prices.autoins.ru/priceAutoPublicCheck/api/spareprice'"
   ]
  },
  {
   "cell_type": "markdown",
   "id": "8be94e8c",
   "metadata": {},
   "source": [
    "## Получаем ID субъектов РФ"
   ]
  },
  {
   "cell_type": "code",
   "execution_count": 13,
   "id": "a2326846",
   "metadata": {},
   "outputs": [],
   "source": [
    "get_rf_subject_ids_result = requests.get(get_rf_subject_ids)"
   ]
  },
  {
   "cell_type": "code",
   "execution_count": 14,
   "id": "d91960e4",
   "metadata": {},
   "outputs": [
    {
     "data": {
      "text/plain": [
       "[{'subjectRF': 22, 'subjectName': 'Алтайский край'},\n",
       " {'subjectRF': 28, 'subjectName': 'Амурская область'},\n",
       " {'subjectRF': 29, 'subjectName': 'Архангельская область'},\n",
       " {'subjectRF': 30, 'subjectName': 'Астраханская область'},\n",
       " {'subjectRF': 31, 'subjectName': 'Белгородская область'},\n",
       " {'subjectRF': 32, 'subjectName': 'Брянская область'},\n",
       " {'subjectRF': 33, 'subjectName': 'Владимирская область'},\n",
       " {'subjectRF': 34, 'subjectName': 'Волгоградская область'},\n",
       " {'subjectRF': 35, 'subjectName': 'Вологодская область'},\n",
       " {'subjectRF': 36, 'subjectName': 'Воронежская область'},\n",
       " {'subjectRF': 79, 'subjectName': 'Еврейская автономная область'},\n",
       " {'subjectRF': 75, 'subjectName': 'Забайкальский край'},\n",
       " {'subjectRF': 37, 'subjectName': 'Ивановская область'},\n",
       " {'subjectRF': 38, 'subjectName': 'Иркутская область'},\n",
       " {'subjectRF': 7, 'subjectName': 'Кабардино-Балкарская Республика'},\n",
       " {'subjectRF': 39, 'subjectName': 'Калининградская область'},\n",
       " {'subjectRF': 40, 'subjectName': 'Калужская область'},\n",
       " {'subjectRF': 41, 'subjectName': 'Камчатский край'},\n",
       " {'subjectRF': 9, 'subjectName': 'Карачаево-Черкесская Республика'},\n",
       " {'subjectRF': 42, 'subjectName': 'Кемеровская область'},\n",
       " {'subjectRF': 43, 'subjectName': 'Кировская область'},\n",
       " {'subjectRF': 44, 'subjectName': 'Костромская область'},\n",
       " {'subjectRF': 23, 'subjectName': 'Краснодарский край'},\n",
       " {'subjectRF': 24, 'subjectName': 'Красноярский край'},\n",
       " {'subjectRF': 45, 'subjectName': 'Курганская область'},\n",
       " {'subjectRF': 46, 'subjectName': 'Курская область'},\n",
       " {'subjectRF': 47, 'subjectName': 'Ленинградская область'},\n",
       " {'subjectRF': 48, 'subjectName': 'Липецкая область'},\n",
       " {'subjectRF': 49, 'subjectName': 'Магаданская область'},\n",
       " {'subjectRF': 77, 'subjectName': 'Москва'},\n",
       " {'subjectRF': 50, 'subjectName': 'Московская область'},\n",
       " {'subjectRF': 51, 'subjectName': 'Мурманская область'},\n",
       " {'subjectRF': 83, 'subjectName': 'Ненецкий автономный округ'},\n",
       " {'subjectRF': 52, 'subjectName': 'Нижегородская область'},\n",
       " {'subjectRF': 53, 'subjectName': 'Новгородская область'},\n",
       " {'subjectRF': 54, 'subjectName': 'Новосибирская область'},\n",
       " {'subjectRF': 55, 'subjectName': 'Омская область'},\n",
       " {'subjectRF': 56, 'subjectName': 'Оренбургская область'},\n",
       " {'subjectRF': 57, 'subjectName': 'Орловская область'},\n",
       " {'subjectRF': 58, 'subjectName': 'Пензенская область'},\n",
       " {'subjectRF': 59, 'subjectName': 'Пермский край'},\n",
       " {'subjectRF': 25, 'subjectName': 'Приморский край'},\n",
       " {'subjectRF': 60, 'subjectName': 'Псковская область'},\n",
       " {'subjectRF': 1, 'subjectName': 'Республика Адыгея'},\n",
       " {'subjectRF': 4, 'subjectName': 'Республика Алтай'},\n",
       " {'subjectRF': 2, 'subjectName': 'Республика Башкортостан'},\n",
       " {'subjectRF': 3, 'subjectName': 'Республика Бурятия'},\n",
       " {'subjectRF': 5, 'subjectName': 'Республика Дагестан'},\n",
       " {'subjectRF': 6, 'subjectName': 'Республика Ингушетия'},\n",
       " {'subjectRF': 8, 'subjectName': 'Республика Калмыкия'},\n",
       " {'subjectRF': 10, 'subjectName': 'Республика Карелия'},\n",
       " {'subjectRF': 11, 'subjectName': 'Республика Коми'},\n",
       " {'subjectRF': 91, 'subjectName': 'Республика Крым'},\n",
       " {'subjectRF': 12, 'subjectName': 'Республика Марий Эл'},\n",
       " {'subjectRF': 13, 'subjectName': 'Республика Мордовия'},\n",
       " {'subjectRF': 14, 'subjectName': 'Республика Саха (Якутия)'},\n",
       " {'subjectRF': 15, 'subjectName': 'Республика Северная Осетия-Алания'},\n",
       " {'subjectRF': 16, 'subjectName': 'Республика Татарстан (Татарстан)'},\n",
       " {'subjectRF': 17, 'subjectName': 'Республика Тыва'},\n",
       " {'subjectRF': 19, 'subjectName': 'Республика Хакасия'},\n",
       " {'subjectRF': 61, 'subjectName': 'Ростовская область'},\n",
       " {'subjectRF': 62, 'subjectName': 'Рязанская область'},\n",
       " {'subjectRF': 63, 'subjectName': 'Самарская область'},\n",
       " {'subjectRF': 78, 'subjectName': 'Санкт-Петербург'},\n",
       " {'subjectRF': 64, 'subjectName': 'Саратовская область'},\n",
       " {'subjectRF': 65, 'subjectName': 'Сахалинская область'},\n",
       " {'subjectRF': 66, 'subjectName': 'Свердловская область'},\n",
       " {'subjectRF': 92, 'subjectName': 'Севастополь'},\n",
       " {'subjectRF': 67, 'subjectName': 'Смоленская область'},\n",
       " {'subjectRF': 26, 'subjectName': 'Ставропольский край'},\n",
       " {'subjectRF': 68, 'subjectName': 'Тамбовская область'},\n",
       " {'subjectRF': 69, 'subjectName': 'Тверская область'},\n",
       " {'subjectRF': 70, 'subjectName': 'Томская область'},\n",
       " {'subjectRF': 71, 'subjectName': 'Тульская область'},\n",
       " {'subjectRF': 72, 'subjectName': 'Тюменская область'},\n",
       " {'subjectRF': 18, 'subjectName': 'Удмуртская Республика'},\n",
       " {'subjectRF': 73, 'subjectName': 'Ульяновская область'},\n",
       " {'subjectRF': 27, 'subjectName': 'Хабаровский край'},\n",
       " {'subjectRF': 86, 'subjectName': 'Ханты-Мансийский автономный округ - Югра'},\n",
       " {'subjectRF': 74, 'subjectName': 'Челябинская область'},\n",
       " {'subjectRF': 20, 'subjectName': 'Чеченская Республика'},\n",
       " {'subjectRF': 21, 'subjectName': 'Чувашская Республика - Чувашия'},\n",
       " {'subjectRF': 87, 'subjectName': 'Чукотский автономный округ'},\n",
       " {'subjectRF': 89, 'subjectName': 'Ямало-Ненецкий автономный округ'},\n",
       " {'subjectRF': 76, 'subjectName': 'Ярославская область'}]"
      ]
     },
     "execution_count": 14,
     "metadata": {},
     "output_type": "execute_result"
    }
   ],
   "source": [
    "get_rf_subject_ids_result.json()"
   ]
  },
  {
   "cell_type": "code",
   "execution_count": 19,
   "id": "4110d269",
   "metadata": {},
   "outputs": [
    {
     "data": {
      "text/plain": [
       "{'Алтайский край': 22,\n",
       " 'Амурская область': 28,\n",
       " 'Архангельская область': 29,\n",
       " 'Астраханская область': 30,\n",
       " 'Белгородская область': 31,\n",
       " 'Брянская область': 32,\n",
       " 'Владимирская область': 33,\n",
       " 'Волгоградская область': 34,\n",
       " 'Вологодская область': 35,\n",
       " 'Воронежская область': 36,\n",
       " 'Еврейская автономная область': 79,\n",
       " 'Забайкальский край': 75,\n",
       " 'Ивановская область': 37,\n",
       " 'Иркутская область': 38,\n",
       " 'Кабардино-Балкарская Республика': 7,\n",
       " 'Калининградская область': 39,\n",
       " 'Калужская область': 40,\n",
       " 'Камчатский край': 41,\n",
       " 'Карачаево-Черкесская Республика': 9,\n",
       " 'Кемеровская область': 42,\n",
       " 'Кировская область': 43,\n",
       " 'Костромская область': 44,\n",
       " 'Краснодарский край': 23,\n",
       " 'Красноярский край': 24,\n",
       " 'Курганская область': 45,\n",
       " 'Курская область': 46,\n",
       " 'Ленинградская область': 47,\n",
       " 'Липецкая область': 48,\n",
       " 'Магаданская область': 49,\n",
       " 'Москва': 77,\n",
       " 'Московская область': 50,\n",
       " 'Мурманская область': 51,\n",
       " 'Ненецкий автономный округ': 83,\n",
       " 'Нижегородская область': 52,\n",
       " 'Новгородская область': 53,\n",
       " 'Новосибирская область': 54,\n",
       " 'Омская область': 55,\n",
       " 'Оренбургская область': 56,\n",
       " 'Орловская область': 57,\n",
       " 'Пензенская область': 58,\n",
       " 'Пермский край': 59,\n",
       " 'Приморский край': 25,\n",
       " 'Псковская область': 60,\n",
       " 'Республика Адыгея': 1,\n",
       " 'Республика Алтай': 4,\n",
       " 'Республика Башкортостан': 2,\n",
       " 'Республика Бурятия': 3,\n",
       " 'Республика Дагестан': 5,\n",
       " 'Республика Ингушетия': 6,\n",
       " 'Республика Калмыкия': 8,\n",
       " 'Республика Карелия': 10,\n",
       " 'Республика Коми': 11,\n",
       " 'Республика Крым': 91,\n",
       " 'Республика Марий Эл': 12,\n",
       " 'Республика Мордовия': 13,\n",
       " 'Республика Саха (Якутия)': 14,\n",
       " 'Республика Северная Осетия-Алания': 15,\n",
       " 'Республика Татарстан (Татарстан)': 16,\n",
       " 'Республика Тыва': 17,\n",
       " 'Республика Хакасия': 19,\n",
       " 'Ростовская область': 61,\n",
       " 'Рязанская область': 62,\n",
       " 'Самарская область': 63,\n",
       " 'Санкт-Петербург': 78,\n",
       " 'Саратовская область': 64,\n",
       " 'Сахалинская область': 65,\n",
       " 'Свердловская область': 66,\n",
       " 'Севастополь': 92,\n",
       " 'Смоленская область': 67,\n",
       " 'Ставропольский край': 26,\n",
       " 'Тамбовская область': 68,\n",
       " 'Тверская область': 69,\n",
       " 'Томская область': 70,\n",
       " 'Тульская область': 71,\n",
       " 'Тюменская область': 72,\n",
       " 'Удмуртская Республика': 18,\n",
       " 'Ульяновская область': 73,\n",
       " 'Хабаровский край': 27,\n",
       " 'Ханты-Мансийский автономный округ - Югра': 86,\n",
       " 'Челябинская область': 74,\n",
       " 'Чеченская Республика': 20,\n",
       " 'Чувашская Республика - Чувашия': 21,\n",
       " 'Чукотский автономный округ': 87,\n",
       " 'Ямало-Ненецкий автономный округ': 89,\n",
       " 'Ярославская область': 76}"
      ]
     },
     "execution_count": 19,
     "metadata": {},
     "output_type": "execute_result"
    }
   ],
   "source": [
    "subjects = {row['subjectName']: row['subjectRF'] for row in get_rf_subject_ids_result.json()}\n",
    "subjects"
   ]
  },
  {
   "cell_type": "markdown",
   "id": "e68b5586",
   "metadata": {},
   "source": [
    "## Получаем ID марок авто"
   ]
  },
  {
   "cell_type": "code",
   "execution_count": 22,
   "id": "489eb98f",
   "metadata": {},
   "outputs": [
    {
     "data": {
      "text/plain": [
       "<Response [200]>"
      ]
     },
     "execution_count": 22,
     "metadata": {},
     "output_type": "execute_result"
    }
   ],
   "source": [
    "get_oem_ids_result = requests.get(get_oem_ids)"
   ]
  },
  {
   "cell_type": "code",
   "execution_count": 23,
   "id": "6f598af7",
   "metadata": {},
   "outputs": [
    {
     "data": {
      "text/plain": [
       "[{'id': 19, 'name': 'Audi'},\n",
       " {'id': 18, 'name': 'BMW'},\n",
       " {'id': 70, 'name': 'Bogdan'},\n",
       " {'id': 61, 'name': 'Cadillac'},\n",
       " {'id': 75, 'name': 'Changan'},\n",
       " {'id': 30, 'name': 'Chery'},\n",
       " {'id': 8, 'name': 'Chevrolet'},\n",
       " {'id': 60, 'name': 'Chrysler'},\n",
       " {'id': 28, 'name': 'Citroen'},\n",
       " {'id': 20, 'name': 'Daewoo'},\n",
       " {'id': 43, 'name': 'DAF'},\n",
       " {'id': 53, 'name': 'DAIHATSU'},\n",
       " {'id': 33, 'name': 'Datsun'},\n",
       " {'id': 54, 'name': 'Dodge'},\n",
       " {'id': 71, 'name': 'Ducati'},\n",
       " {'id': 76, 'name': 'Exeed'},\n",
       " {'id': 65, 'name': 'FAW'},\n",
       " {'id': 32, 'name': 'Fiat'},\n",
       " {'id': 9, 'name': 'Ford'},\n",
       " {'id': 34, 'name': 'Geely'},\n",
       " {'id': 73, 'name': 'Genesis'},\n",
       " {'id': 39, 'name': 'Great Wall'},\n",
       " {'id': 50, 'name': 'Haval'},\n",
       " {'id': 59, 'name': 'HINO'},\n",
       " {'id': 14, 'name': 'Honda'},\n",
       " {'id': 3, 'name': 'Hyundai'},\n",
       " {'id': 42, 'name': 'Infiniti'},\n",
       " {'id': 46, 'name': 'ISUZU'},\n",
       " {'id': 52, 'name': 'IVECO'},\n",
       " {'id': 77, 'name': 'JAC'},\n",
       " {'id': 63, 'name': 'Jaguar'},\n",
       " {'id': 62, 'name': 'JCB'},\n",
       " {'id': 51, 'name': 'Jeep'},\n",
       " {'id': 56, 'name': 'KAWASAKI'},\n",
       " {'id': 4, 'name': 'Kia'},\n",
       " {'id': 29, 'name': 'Land Rover'},\n",
       " {'id': 25, 'name': 'Lexus'},\n",
       " {'id': 35, 'name': 'Lifan'},\n",
       " {'id': 38, 'name': 'MAN'},\n",
       " {'id': 16, 'name': 'Mazda'},\n",
       " {'id': 13, 'name': 'Mercedes.Benz'},\n",
       " {'id': 64, 'name': 'Mini.BMW'},\n",
       " {'id': 11, 'name': 'Mitsubishi'},\n",
       " {'id': 6, 'name': 'Nissan'},\n",
       " {'id': 17, 'name': 'Opel'},\n",
       " {'id': 24, 'name': 'Peugeot'},\n",
       " {'id': 49, 'name': 'Porsche'},\n",
       " {'id': 58, 'name': 'Ravon'},\n",
       " {'id': 5, 'name': 'Renault'},\n",
       " {'id': 40, 'name': 'SCANIA'},\n",
       " {'id': 68, 'name': 'SEAT'},\n",
       " {'id': 12, 'name': 'Skoda'},\n",
       " {'id': 74, 'name': 'Smart'},\n",
       " {'id': 31, 'name': 'SsangYong'},\n",
       " {'id': 26, 'name': 'Subaru'},\n",
       " {'id': 22, 'name': 'Suzuki'},\n",
       " {'id': 2, 'name': 'Toyota'},\n",
       " {'id': 72, 'name': 'Triumph'},\n",
       " {'id': 7, 'name': 'Volkswagen'},\n",
       " {'id': 23, 'name': 'Volvo'},\n",
       " {'id': 57, 'name': 'Vortex'},\n",
       " {'id': 48, 'name': 'YAMAHA'},\n",
       " {'id': 47, 'name': 'ZAZ'},\n",
       " {'id': 27, 'name': 'БЕЛАРУС.МТЗ'},\n",
       " {'id': 1, 'name': 'ВАЗ.LADA'},\n",
       " {'id': 69, 'name': 'ВИС'},\n",
       " {'id': 10, 'name': 'ГАЗ'},\n",
       " {'id': 41, 'name': 'ЗИЛ'},\n",
       " {'id': 44, 'name': 'ИЖ'},\n",
       " {'id': 21, 'name': 'КАМАЗ'},\n",
       " {'id': 66, 'name': 'ЛИАЗ'},\n",
       " {'id': 36, 'name': 'МАЗ'},\n",
       " {'id': 55, 'name': 'Москвич'},\n",
       " {'id': 67, 'name': 'НЕФАЗ'},\n",
       " {'id': 37, 'name': 'ПАЗ'},\n",
       " {'id': 15, 'name': 'УАЗ'},\n",
       " {'id': 45, 'name': 'УРАЛ'}]"
      ]
     },
     "execution_count": 23,
     "metadata": {},
     "output_type": "execute_result"
    }
   ],
   "source": [
    "get_oem_ids_result.json()"
   ]
  },
  {
   "cell_type": "code",
   "execution_count": 24,
   "id": "fde828ff",
   "metadata": {},
   "outputs": [
    {
     "data": {
      "text/plain": [
       "{'Audi': 19,\n",
       " 'BMW': 18,\n",
       " 'Bogdan': 70,\n",
       " 'Cadillac': 61,\n",
       " 'Changan': 75,\n",
       " 'Chery': 30,\n",
       " 'Chevrolet': 8,\n",
       " 'Chrysler': 60,\n",
       " 'Citroen': 28,\n",
       " 'Daewoo': 20,\n",
       " 'DAF': 43,\n",
       " 'DAIHATSU': 53,\n",
       " 'Datsun': 33,\n",
       " 'Dodge': 54,\n",
       " 'Ducati': 71,\n",
       " 'Exeed': 76,\n",
       " 'FAW': 65,\n",
       " 'Fiat': 32,\n",
       " 'Ford': 9,\n",
       " 'Geely': 34,\n",
       " 'Genesis': 73,\n",
       " 'Great Wall': 39,\n",
       " 'Haval': 50,\n",
       " 'HINO': 59,\n",
       " 'Honda': 14,\n",
       " 'Hyundai': 3,\n",
       " 'Infiniti': 42,\n",
       " 'ISUZU': 46,\n",
       " 'IVECO': 52,\n",
       " 'JAC': 77,\n",
       " 'Jaguar': 63,\n",
       " 'JCB': 62,\n",
       " 'Jeep': 51,\n",
       " 'KAWASAKI': 56,\n",
       " 'Kia': 4,\n",
       " 'Land Rover': 29,\n",
       " 'Lexus': 25,\n",
       " 'Lifan': 35,\n",
       " 'MAN': 38,\n",
       " 'Mazda': 16,\n",
       " 'Mercedes.Benz': 13,\n",
       " 'Mini.BMW': 64,\n",
       " 'Mitsubishi': 11,\n",
       " 'Nissan': 6,\n",
       " 'Opel': 17,\n",
       " 'Peugeot': 24,\n",
       " 'Porsche': 49,\n",
       " 'Ravon': 58,\n",
       " 'Renault': 5,\n",
       " 'SCANIA': 40,\n",
       " 'SEAT': 68,\n",
       " 'Skoda': 12,\n",
       " 'Smart': 74,\n",
       " 'SsangYong': 31,\n",
       " 'Subaru': 26,\n",
       " 'Suzuki': 22,\n",
       " 'Toyota': 2,\n",
       " 'Triumph': 72,\n",
       " 'Volkswagen': 7,\n",
       " 'Volvo': 23,\n",
       " 'Vortex': 57,\n",
       " 'YAMAHA': 48,\n",
       " 'ZAZ': 47,\n",
       " 'БЕЛАРУС.МТЗ': 27,\n",
       " 'ВАЗ.LADA': 1,\n",
       " 'ВИС': 69,\n",
       " 'ГАЗ': 10,\n",
       " 'ЗИЛ': 41,\n",
       " 'ИЖ': 44,\n",
       " 'КАМАЗ': 21,\n",
       " 'ЛИАЗ': 66,\n",
       " 'МАЗ': 36,\n",
       " 'Москвич': 55,\n",
       " 'НЕФАЗ': 67,\n",
       " 'ПАЗ': 37,\n",
       " 'УАЗ': 15,\n",
       " 'УРАЛ': 45}"
      ]
     },
     "execution_count": 24,
     "metadata": {},
     "output_type": "execute_result"
    }
   ],
   "source": [
    "car_models = {row['name']: row['id'] for row in get_oem_ids_result.json()}\n",
    "car_models"
   ]
  },
  {
   "cell_type": "code",
   "execution_count": 39,
   "id": "ef6dfdd5",
   "metadata": {},
   "outputs": [
    {
     "data": {
      "text/plain": [
       "<Response [200]>"
      ]
     },
     "execution_count": 39,
     "metadata": {},
     "output_type": "execute_result"
    }
   ],
   "source": [
    "request_data = {\n",
    "    'oemId': car_models['Audi'],\n",
    "    'subjectRF': subjects['Свердловская область'],\n",
    "    'versionDate': today_date,\n",
    "    'partNumber1': catalog_num\n",
    "}\n",
    "\n",
    "get_price_url_result = requests.post(get_price_url, json = request_data)\n",
    "get_price_url_result"
   ]
  },
  {
   "cell_type": "code",
   "execution_count": 40,
   "id": "14e0efc0",
   "metadata": {},
   "outputs": [
    {
     "data": {
      "text/plain": [
       "{'versionDate': '2023-10-21',\n",
       " 'subjectName': 'Свердловская область',\n",
       " 'oemName': 'Audi',\n",
       " 'repairPartDtoList': [{'partnumber': '034115417',\n",
       "   'spareName': 'деталь',\n",
       "   'partnumberCert': None,\n",
       "   'oemCert': None,\n",
       "   'baseCost': '19268.77',\n",
       "   'regCoef': '1.05000',\n",
       "   'sparePrice': '20232.21',\n",
       "   'found': True}],\n",
       " 'errorMessage': ''}"
      ]
     },
     "execution_count": 40,
     "metadata": {},
     "output_type": "execute_result"
    }
   ],
   "source": [
    "get_price_url_result.json()"
   ]
  },
  {
   "cell_type": "code",
   "execution_count": 41,
   "id": "96726675",
   "metadata": {},
   "outputs": [
    {
     "name": "stdout",
     "output_type": "stream",
     "text": [
      "Наименование запасной части: деталь\n",
      "Региональный коэффициент 1.05000\n",
      "Средняя стоимость запасной части, руб.: 20232.21\n",
      "Средняя стоимость запасной части, руб.: 20232.21\n",
      "Базовая стоимость запасной части, руб.: 19268.77\n"
     ]
    }
   ],
   "source": [
    "detail_info = get_price_url_result.json()['repairPartDtoList'][0]\n",
    "if detail_info['found']:\n",
    "    print(f'Наименование запасной части: {detail_info[\"spareName\"]}')\n",
    "    print(f'Региональный коэффициент {detail_info[\"regCoef\"]}')\n",
    "    print(f'Средняя стоимость запасной части, руб.: {detail_info[\"sparePrice\"]}')\n",
    "    print(f'Базовая стоимость запасной части, руб.: {detail_info[\"baseCost\"]}')"
   ]
  }
 ],
 "metadata": {
  "kernelspec": {
   "display_name": "Python 3 (ipykernel)",
   "language": "python",
   "name": "python3"
  },
  "language_info": {
   "codemirror_mode": {
    "name": "ipython",
    "version": 3
   },
   "file_extension": ".py",
   "mimetype": "text/x-python",
   "name": "python",
   "nbconvert_exporter": "python",
   "pygments_lexer": "ipython3",
   "version": "3.9.12"
  }
 },
 "nbformat": 4,
 "nbformat_minor": 5
}
