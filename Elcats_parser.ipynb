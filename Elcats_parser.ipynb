{
 "cells": [
  {
   "cell_type": "code",
   "execution_count": 1,
   "id": "4246480e",
   "metadata": {},
   "outputs": [],
   "source": [
    "from bs4 import BeautifulSoup\n",
    "import requests"
   ]
  },
  {
   "cell_type": "code",
   "execution_count": 202,
   "id": "a9d79ee8",
   "metadata": {},
   "outputs": [],
   "source": [
    "base_url ='http://www.elcats.ru/'"
   ]
  },
  {
   "cell_type": "code",
   "execution_count": 203,
   "id": "ace832b5",
   "metadata": {},
   "outputs": [],
   "source": [
    "page = requests.get('http://www.elcats.ru/')"
   ]
  },
  {
   "cell_type": "code",
   "execution_count": 204,
   "id": "564bb9c4",
   "metadata": {},
   "outputs": [],
   "source": [
    "soup = BeautifulSoup(page.text, \"html.parser\")"
   ]
  },
  {
   "cell_type": "code",
   "execution_count": 209,
   "id": "a23e5756",
   "metadata": {},
   "outputs": [
    {
     "data": {
      "text/plain": [
       "{'SCANIA': 'http://www.elcats.ru/truck/scania/',\n",
       " 'RENAULT': 'http://www.elcats.ru/renault/',\n",
       " 'MERCEDES': 'http://www.elcats.ru/mercedes/',\n",
       " 'FIAT': 'http://www.elcats.ru/fiat/',\n",
       " 'ZAZ CHANCE': 'http://www.elcats.ru/zaz/',\n",
       " 'VOLVO': 'http://www.elcats.ru/volvo/',\n",
       " 'VOLKSWAGEN': 'http://www.elcats.ru/vw/',\n",
       " 'SMART': 'http://www.elcats.ru/smart/',\n",
       " 'SKODA': 'http://www.elcats.ru/skoda/',\n",
       " 'SEAT': 'http://www.elcats.ru/seat/',\n",
       " 'SATURN': 'http://www.elcats.ru/gm/saturn/',\n",
       " 'SAAB': 'http://www.elcats.ru/saab/',\n",
       " 'PORSCHE': 'http://www.elcats.ru/porsche/',\n",
       " 'PONTIAC': 'http://www.elcats.ru/gm/pontiac/',\n",
       " 'PEUGEOT': 'http://www.elcats.ru/peugeot/',\n",
       " 'OPEL': 'http://www.elcats.ru/opel/',\n",
       " 'MINI': 'http://www.elcats.ru/mini/',\n",
       " 'MG ROVER': 'http://www.elcats.ru/mgrover/',\n",
       " 'LIFAN': 'http://www.elcats.ru/lifan/',\n",
       " 'LAND ROVER': 'http://www.elcats.ru/landrover/',\n",
       " 'LANCIA': 'http://www.elcats.ru/lancia/',\n",
       " 'KIA': 'http://www.elcats.ru/kia/',\n",
       " 'JEEP': 'http://www.elcats.ru/jeep/',\n",
       " 'JAGUAR': 'http://www.elcats.ru/jaguar/',\n",
       " 'HYUNDAI': 'http://www.elcats.ru/hyundai/',\n",
       " 'HUMMER': 'http://www.elcats.ru/gm/hummer/',\n",
       " 'GMC': 'http://www.elcats.ru/gm/gmc/',\n",
       " 'GEELY': 'http://www.elcats.ru/geely/',\n",
       " 'FORD': 'http://www.elcats.ru/ford/',\n",
       " 'FAW': 'http://www.elcats.ru/faw/',\n",
       " 'DAEWOO': 'http://www.elcats.ru/daewoo/',\n",
       " 'CITROEN': 'http://www.elcats.ru/citroen/',\n",
       " 'CHRYSLER': 'http://www.elcats.ru/chrysler/',\n",
       " 'CHEVROLET USA': 'http://www.elcats.ru/gm/chevrolet/',\n",
       " 'CHEVROLET': 'http://www.elcats.ru/chevrolet/',\n",
       " 'CHERY': 'http://www.elcats.ru/chery/',\n",
       " 'CADILLAC': 'http://www.elcats.ru/gm/cadillac/',\n",
       " 'BYD': 'http://www.elcats.ru/byd/',\n",
       " 'BUICK': 'http://www.elcats.ru/gm/buick/',\n",
       " 'BOSCH': 'http://www.elcats.ru/bosch/',\n",
       " 'BMW': 'http://www.elcats.ru/bmw/',\n",
       " 'AUDI': 'http://www.elcats.ru/audi/',\n",
       " 'ALFA ROMEO': 'http://www.elcats.ru/alfaromeo/',\n",
       " 'ABARTH': 'http://www.elcats.ru/abarth/'}"
      ]
     },
     "execution_count": 209,
     "metadata": {},
     "output_type": "execute_result"
    }
   ],
   "source": [
    "car_hrefs = soup.findAll('a', class_ = 'menu1')[::-1]\n",
    "\n",
    "cars = {a.text: 'http://www.elcats.ru' + a['href'] for a in car_hrefs \n",
    "        if 'www' not in a.text and \n",
    "                'http' not in a['href']\n",
    "       }\n",
    "cars"
   ]
  },
  {
   "cell_type": "code",
   "execution_count": 140,
   "id": "e9eb1ff4",
   "metadata": {},
   "outputs": [],
   "source": [
    "page = requests.get(cars['ABARTH'])\n",
    "soup1 = BeautifulSoup(page.text, \"html.parser\")\n",
    "\n",
    "items = soup1.findAll('a', href=lambda x: x and 'ToggleNode' in x, text=lambda x: x)\n",
    "sub_lists = soup1.findAll('div', id=lambda x: x and x[0]=='d' and len(x) < 5)"
   ]
  },
  {
   "cell_type": "code",
   "execution_count": 143,
   "id": "b4364151",
   "metadata": {},
   "outputs": [
    {
     "data": {
      "text/plain": [
       "2"
      ]
     },
     "execution_count": 143,
     "metadata": {},
     "output_type": "execute_result"
    }
   ],
   "source": [
    "len(sub_lists)"
   ]
  },
  {
   "cell_type": "markdown",
   "id": "901fed8b",
   "metadata": {},
   "source": [
    "### Создание url из href кнопок"
   ]
  },
  {
   "cell_type": "code",
   "execution_count": 158,
   "id": "c5d4554e",
   "metadata": {},
   "outputs": [
    {
     "data": {
      "text/plain": [
       "\"javascript:submit('1002','1161','1002','0');\""
      ]
     },
     "execution_count": 158,
     "metadata": {},
     "output_type": "execute_result"
    }
   ],
   "source": [
    "js_command = sub_lists[0].find('a')['href']\n",
    "js_command"
   ]
  },
  {
   "cell_type": "code",
   "execution_count": 166,
   "id": "d0270284",
   "metadata": {},
   "outputs": [],
   "source": [
    "import re\n",
    "raw_submit_args = re.findall('javascript:(submit|subm)\\((.*)\\)', js_command)[0][1]"
   ]
  },
  {
   "cell_type": "code",
   "execution_count": 167,
   "id": "cbc6edae",
   "metadata": {},
   "outputs": [
    {
     "data": {
      "text/plain": [
       "\"'1002','1161','1002','0'\""
      ]
     },
     "execution_count": 167,
     "metadata": {},
     "output_type": "execute_result"
    }
   ],
   "source": [
    "raw_submit_args"
   ]
  },
  {
   "cell_type": "code",
   "execution_count": 115,
   "id": "a5995178",
   "metadata": {},
   "outputs": [
    {
     "data": {
      "text/plain": [
       "['1002', '1161', '1002', '0']"
      ]
     },
     "execution_count": 115,
     "metadata": {},
     "output_type": "execute_result"
    }
   ],
   "source": [
    "import ast\n",
    "pseudo_python_list = f'[{raw_submit_args}]'\n",
    "submit_args = ast.literal_eval(pseudo_python_list)\n",
    "submit_args"
   ]
  },
  {
   "cell_type": "code",
   "execution_count": 42,
   "id": "f5b7139e",
   "metadata": {},
   "outputs": [
    {
     "name": "stdout",
     "output_type": "stream",
     "text": [
      "\r\n",
      "        function submit(modelId, yearId, region, value)\r\n",
      "        {\r\n",
      "            var url = document.location.href;\r\n",
      "            if (document.location.href.indexOf('#') != -1)\r\n",
      "                url = document.location.href.substring(0, document.location.href.indexOf('#'));\r\n",
      "            if (value != '')\r\n",
      "                document.location.href = url + \"#\" + value;\r\n",
      "            else\r\n",
      "                document.location.href = url;\r\n",
      "            var form = document.getElementById('PostForm');\r\n",
      "            form.innerHTML = \"<input type=\\\"hidden\\\" name=\\\"Model\\\">\";\r\n",
      "            form.innerHTML += \"<input type=\\\"hidden\\\" name=\\\"Year\\\">\";\r\n",
      "            form.innerHTML += \"<input type=\\\"hidden\\\" name=\\\"Region\\\">\";\r\n",
      "            document.forms[1].Model.value = modelId;\r\n",
      "            document.forms[1].Year.value = yearId;\r\n",
      "            document.forms[1].Region.value = region;\r\n",
      "            document.forms[1].action = \"Modification.aspx\";\r\n",
      "            document.forms[1].submit();\r\n",
      "        }\r\n",
      "    \n"
     ]
    }
   ],
   "source": [
    "sumbit_function_body = soup1.find(text=lambda t: 'function submit' in t)\n",
    "print(sumbit_function_body)"
   ]
  },
  {
   "cell_type": "code",
   "execution_count": 116,
   "id": "6dd59870",
   "metadata": {},
   "outputs": [
    {
     "data": {
      "text/plain": [
       "['Model', 'Year', 'Region']"
      ]
     },
     "execution_count": 116,
     "metadata": {},
     "output_type": "execute_result"
    }
   ],
   "source": [
    "submit_params = re.findall('\\[1\\]\\.(.*)\\.value =.*;', sumbit_function_body)\n",
    "submit_params"
   ]
  },
  {
   "cell_type": "code",
   "execution_count": 117,
   "id": "47750915",
   "metadata": {},
   "outputs": [
    {
     "data": {
      "text/plain": [
       "'Modification.aspx'"
      ]
     },
     "execution_count": 117,
     "metadata": {},
     "output_type": "execute_result"
    }
   ],
   "source": [
    "submit_action = re.findall('\\.action = \"(.*)\"', sumbit_function_body)[0]\n",
    "submit_action"
   ]
  },
  {
   "cell_type": "code",
   "execution_count": 118,
   "id": "1745e73e",
   "metadata": {},
   "outputs": [
    {
     "data": {
      "text/plain": [
       "{'Model': '1002', 'Year': '1161', 'Region': '1002'}"
      ]
     },
     "execution_count": 118,
     "metadata": {},
     "output_type": "execute_result"
    }
   ],
   "source": [
    "dict(zip(submit_params, submit_args))"
   ]
  },
  {
   "cell_type": "code",
   "execution_count": 119,
   "id": "15002cbc",
   "metadata": {},
   "outputs": [
    {
     "data": {
      "text/plain": [
       "'http://www.elcats.ru/volvo/Modification.aspx?Model=1002&Year=1161&Region=1002'"
      ]
     },
     "execution_count": 119,
     "metadata": {},
     "output_type": "execute_result"
    }
   ],
   "source": [
    "from urllib.parse import urlencode\n",
    "from collections import OrderedDict\n",
    "\n",
    "url_params_line = urlencode(OrderedDict(**dict(zip(submit_params, submit_args))))\n",
    "\n",
    "f'{base_url}volvo/{submit_action}?{url_params_line}'"
   ]
  },
  {
   "cell_type": "code",
   "execution_count": 176,
   "id": "209cc615",
   "metadata": {},
   "outputs": [],
   "source": [
    "def create_url_from_href(page_soup, base_url, command):\n",
    "    raw_submit_args = re.findall('javascript:(submit|subm)\\((.*)\\)', command)\n",
    "    # если находим шаблон\n",
    "    if raw_submit_args:\n",
    "        raw_submit_args = raw_submit_args[0][1]\n",
    "        pseudo_python_list = f'[{raw_submit_args}]'\n",
    "        submit_args = ast.literal_eval(pseudo_python_list)\n",
    "        sumbit_function_body = page_soup.find(text=lambda t: 'function submit' in t)\n",
    "        submit_params = re.findall('\\[1\\]\\.(.*)\\.value =.*;', sumbit_function_body)\n",
    "        submit_action = re.findall('\\.action = \"(.*)\"', sumbit_function_body)[0]\n",
    "        url_params_line = urlencode(OrderedDict(**dict(zip(submit_params, submit_args))))\n",
    "        return f'{base_url}{submit_action}?{url_params_line}'"
   ]
  },
  {
   "cell_type": "markdown",
   "id": "64264fb3",
   "metadata": {},
   "source": [
    "### Парсинг раскрывающихся списков"
   ]
  },
  {
   "cell_type": "code",
   "execution_count": 130,
   "id": "1b6595d4",
   "metadata": {},
   "outputs": [
    {
     "data": {
      "text/plain": [
       "[('1975',\n",
       "  'http://www.elcats.ru/volvo/Modification.aspx?Model=1002&Year=1161&Region=1002'),\n",
       " ('1976',\n",
       "  'http://www.elcats.ru/volvo/Modification.aspx?Model=1002&Year=1162&Region=1002'),\n",
       " ('1977',\n",
       "  'http://www.elcats.ru/volvo/Modification.aspx?Model=1002&Year=1163&Region=1002'),\n",
       " ('1978',\n",
       "  'http://www.elcats.ru/volvo/Modification.aspx?Model=1002&Year=1164&Region=1002'),\n",
       " ('1979',\n",
       "  'http://www.elcats.ru/volvo/Modification.aspx?Model=1002&Year=1165&Region=1002'),\n",
       " ('1980',\n",
       "  'http://www.elcats.ru/volvo/Modification.aspx?Model=1002&Year=1166&Region=1002'),\n",
       " ('1981',\n",
       "  'http://www.elcats.ru/volvo/Modification.aspx?Model=1002&Year=1167&Region=1002'),\n",
       " ('1982',\n",
       "  'http://www.elcats.ru/volvo/Modification.aspx?Model=1002&Year=1168&Region=1002'),\n",
       " ('1983',\n",
       "  'http://www.elcats.ru/volvo/Modification.aspx?Model=1002&Year=1169&Region=1002'),\n",
       " ('1984',\n",
       "  'http://www.elcats.ru/volvo/Modification.aspx?Model=1002&Year=1170&Region=1002'),\n",
       " ('1985',\n",
       "  'http://www.elcats.ru/volvo/Modification.aspx?Model=1002&Year=1171&Region=1002'),\n",
       " ('1986',\n",
       "  'http://www.elcats.ru/volvo/Modification.aspx?Model=1002&Year=1172&Region=1002'),\n",
       " ('1987',\n",
       "  'http://www.elcats.ru/volvo/Modification.aspx?Model=1002&Year=1173&Region=1002'),\n",
       " ('1988',\n",
       "  'http://www.elcats.ru/volvo/Modification.aspx?Model=1002&Year=1174&Region=1002'),\n",
       " ('1989',\n",
       "  'http://www.elcats.ru/volvo/Modification.aspx?Model=1002&Year=1175&Region=1002'),\n",
       " ('1990',\n",
       "  'http://www.elcats.ru/volvo/Modification.aspx?Model=1002&Year=1176&Region=1002'),\n",
       " ('1991',\n",
       "  'http://www.elcats.ru/volvo/Modification.aspx?Model=1002&Year=1177&Region=1002'),\n",
       " ('1992',\n",
       "  'http://www.elcats.ru/volvo/Modification.aspx?Model=1002&Year=1178&Region=1002'),\n",
       " ('1993',\n",
       "  'http://www.elcats.ru/volvo/Modification.aspx?Model=1002&Year=1179&Region=1002')]"
      ]
     },
     "execution_count": 130,
     "metadata": {},
     "output_type": "execute_result"
    }
   ],
   "source": [
    "[(a.text, create_url_from_href(soup1, 'volvo', a['href'])) for a in  sub_lists[0].findAll('a')]"
   ]
  },
  {
   "cell_type": "code",
   "execution_count": null,
   "id": "756647c0",
   "metadata": {},
   "outputs": [],
   "source": [
    "{\n",
    "    i.text: {a.text: create_url_from_href(soup1, 'volvo', a['href']) for a in sl.findAll('a')}\n",
    "    for i, sl in zip(items, sub_lists)\n",
    "}"
   ]
  },
  {
   "cell_type": "markdown",
   "id": "0171234e",
   "metadata": {},
   "source": [
    "### Парсинг обычных списков"
   ]
  },
  {
   "cell_type": "code",
   "execution_count": null,
   "id": "2ac27398",
   "metadata": {},
   "outputs": [],
   "source": [
    "page = requests.get(cars['BMW'])\n",
    "soup1 = BeautifulSoup(page.text, \"html.parser\")\n",
    "\n",
    "flat_items = soup1.findAll('a', href=lambda x: x and 'javascript' in x, text=lambda x: x)\n",
    "{a.text: create_url_from_href(soup1, 'BMW', a['href']) for a in flat_items}"
   ]
  },
  {
   "cell_type": "markdown",
   "id": "541b2358",
   "metadata": {},
   "source": [
    "### Первый уровень: модели авто"
   ]
  },
  {
   "cell_type": "code",
   "execution_count": 177,
   "id": "6ba3d59f",
   "metadata": {},
   "outputs": [],
   "source": [
    "def parse_page(soup_object, base_url, car_brand):\n",
    "    items = soup_object.findAll('a', href=lambda x: x and 'ToggleNode' in x, text=lambda x: x)\n",
    "    if items:\n",
    "        sub_lists = soup.findAll('div', id=lambda x: x and x[0]=='d' and len(x) < 5)\n",
    "        return {\n",
    "            i.text: {a.text: create_url_from_href(soup_object, base_url, a['href']) for a in sl.findAll('a')}\n",
    "            for i, sl in zip(items, sub_lists)\n",
    "        }\n",
    "    else:\n",
    "        flat_items = soup_object.findAll('a', href=lambda x: x and 'javascript' in x, text=lambda x: x)\n",
    "        return {a.text: create_url_from_href(soup_object, base_url, a['href']) for a in flat_items}"
   ]
  },
  {
   "cell_type": "code",
   "execution_count": 210,
   "id": "99e00385",
   "metadata": {},
   "outputs": [],
   "source": [
    "cars_extended = {}\n",
    "for brand in cars: \n",
    "    base_url = cars[brand]\n",
    "    page = requests.get(cars[brand].lower())\n",
    "    soup = BeautifulSoup(page.text, \"html.parser\")\n",
    "    cars_extended[brand] = parse_page(soup, base_url, brand)"
   ]
  },
  {
   "cell_type": "code",
   "execution_count": 196,
   "id": "d2c30089",
   "metadata": {},
   "outputs": [],
   "source": [
    "def dict_flatten(my_dict):\n",
    "    new_dict = {}\n",
    "    for x in my_dict:\n",
    "        if type(my_dict[x]) == dict:\n",
    "            for y in my_dict[x]:\n",
    "                new_dict[f'{x} >>> {y}'] = my_dict[x][y]\n",
    "        else:\n",
    "            new_dict[x] = my_dict[x]\n",
    "    return new_dict"
   ]
  },
  {
   "cell_type": "code",
   "execution_count": 225,
   "id": "3dd558fe",
   "metadata": {},
   "outputs": [
    {
     "data": {
      "text/plain": [
       "['AUDI >>> Audi RS4/Avant quattro (2000-2023) >>> 2016\\xa0\\xa0\\xa0',\n",
       " 'FIAT >>> DOBLÒ >>> NUOVO DOBLO 2009 (2009-....)',\n",
       " 'RENAULT >>> Master II >>> UD1G',\n",
       " 'BMW >>> 2.5CS MКПП',\n",
       " 'RENAULT >>> Master I >>> QH94']"
      ]
     },
     "execution_count": 225,
     "metadata": {},
     "output_type": "execute_result"
    }
   ],
   "source": [
    "import random\n",
    "composite_keys = list(dict_flatten(dict_flatten(cars_extended)).keys())\n",
    "random.shuffle(composite_keys)\n",
    "composite_keys[:5]"
   ]
  },
  {
   "cell_type": "code",
   "execution_count": 226,
   "id": "6f63c0f7",
   "metadata": {},
   "outputs": [
    {
     "data": {
      "text/plain": [
       "{'2000\\xa0\\xa0\\xa0': 'http://www.elcats.ru/audi/Groups.aspx?Mdl=df57cffb-7855-4fa1-98b0-80d7e2877b1b',\n",
       " '2001\\xa0\\xa0\\xa0': 'http://www.elcats.ru/audi/Groups.aspx?Mdl=2afbc3a5-ca8b-4e18-b7d8-0607a25dac82',\n",
       " '2002\\xa0\\xa0\\xa0': 'http://www.elcats.ru/audi/Groups.aspx?Mdl=782ebc87-2436-43f1-b1d0-2c2745327950',\n",
       " '2006\\xa0\\xa0\\xa0': 'http://www.elcats.ru/audi/Groups.aspx?Mdl=0143c108-1c92-402e-a162-3d9fbb5ececa',\n",
       " '2007\\xa0\\xa0\\xa0': 'http://www.elcats.ru/audi/Groups.aspx?Mdl=41fc1f84-ba02-4125-9aaa-bc916ea7047c',\n",
       " '2008\\xa0\\xa0\\xa0': 'http://www.elcats.ru/audi/Groups.aspx?Mdl=e252580e-b87f-423e-86a7-27e483381cf4',\n",
       " '2013\\xa0\\xa0\\xa0': 'http://www.elcats.ru/audi/Groups.aspx?Mdl=f419982b-ed5e-4a7c-b9f6-67672b38745f',\n",
       " '2014\\xa0\\xa0\\xa0': 'http://www.elcats.ru/audi/Groups.aspx?Mdl=5c08f572-43fa-4fc5-aafe-d6cfcbb84570',\n",
       " '2015\\xa0\\xa0\\xa0': 'http://www.elcats.ru/audi/Groups.aspx?Mdl=a18ffeb8-c3fc-490f-8c1a-3f3f7c0e1eae',\n",
       " '2016\\xa0\\xa0\\xa0': 'http://www.elcats.ru/audi/Groups.aspx?Mdl=c4628f34-c1f2-486c-9275-2feecb7c384e',\n",
       " '2018\\xa0\\xa0\\xa0': 'http://www.elcats.ru/audi/Groups.aspx?Mdl=a552d15c-013d-4a2f-bba4-1dcb79789c67',\n",
       " '2019\\xa0\\xa0\\xa0': 'http://www.elcats.ru/audi/Groups.aspx?Mdl=6afcd5fd-8fa6-4f45-8123-2167e74f9ac7',\n",
       " '2020\\xa0\\xa0\\xa0': 'http://www.elcats.ru/audi/Groups.aspx?Mdl=f09888d5-1496-4828-8c51-1ad38fd2b73d',\n",
       " '2021\\xa0\\xa0\\xa0': 'http://www.elcats.ru/audi/Groups.aspx?Mdl=e57dbdc1-57cd-4ea3-8092-d91150ad7068'}"
      ]
     },
     "execution_count": 226,
     "metadata": {},
     "output_type": "execute_result"
    }
   ],
   "source": [
    "cars_extended['AUDI']['Audi RS4/Avant quattro (2000-2023)']"
   ]
  },
  {
   "cell_type": "code",
   "execution_count": 227,
   "id": "cbff5830",
   "metadata": {},
   "outputs": [
    {
     "data": {
      "text/plain": [
       "{'NUOVO DOBLO 2009 (2009-....)': 'http://www.elcats.ru/fiat/Groups.aspx?Key=fURwSCwXttrdHjyFlSPTkA%3D%3D&Title=28',\n",
       " 'DOBLO REST. 2005 (2005-....)': 'http://www.elcats.ru/fiat/Groups.aspx?Key=bEMsmJCG%2FVbBTXvKpSC2vg%3D%3D&Title=28',\n",
       " 'DOBLO MY. 2004 (2004-2005)': 'http://www.elcats.ru/fiat/Groups.aspx?Key=vlyvpq45n17%2BidO%2FIg35dA%3D%3D&Title=28',\n",
       " 'DOBLO (2000-2004)': 'http://www.elcats.ru/fiat/Groups.aspx?Key=QhHWK%2F1cl8USkB1t5alolQ%3D%3D&Title=28'}"
      ]
     },
     "execution_count": 227,
     "metadata": {},
     "output_type": "execute_result"
    }
   ],
   "source": [
    "cars_extended['FIAT']['DOBLÒ']"
   ]
  },
  {
   "cell_type": "code",
   "execution_count": 229,
   "id": "dd83f2ea",
   "metadata": {},
   "outputs": [
    {
     "data": {
      "text/plain": [
       "'http://www.elcats.ru/bmw/MdlYear.aspx?Mdl=03400023&Kpp=M&T=25'"
      ]
     },
     "execution_count": 229,
     "metadata": {},
     "output_type": "execute_result"
    }
   ],
   "source": [
    "cars_extended['BMW']['2.5CS MКПП']"
   ]
  }
 ],
 "metadata": {
  "kernelspec": {
   "display_name": "Python 3 (ipykernel)",
   "language": "python",
   "name": "python3"
  },
  "language_info": {
   "codemirror_mode": {
    "name": "ipython",
    "version": 3
   },
   "file_extension": ".py",
   "mimetype": "text/x-python",
   "name": "python",
   "nbconvert_exporter": "python",
   "pygments_lexer": "ipython3",
   "version": "3.9.12"
  }
 },
 "nbformat": 4,
 "nbformat_minor": 5
}
